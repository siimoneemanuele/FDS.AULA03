{
  "nbformat": 4,
  "nbformat_minor": 0,
  "metadata": {
    "colab": {
      "provenance": [],
      "authorship_tag": "ABX9TyPrSLhptHieRb+biyx+8Diu",
      "include_colab_link": true
    },
    "kernelspec": {
      "name": "python3",
      "display_name": "Python 3"
    },
    "language_info": {
      "name": "python"
    }
  },
  "cells": [
    {
      "cell_type": "markdown",
      "metadata": {
        "id": "view-in-github",
        "colab_type": "text"
      },
      "source": [
        "<a href=\"https://colab.research.google.com/github/siimoneemanuele/FDS.AULA03/blob/main/AULA05.ipynb\" target=\"_parent\"><img src=\"https://colab.research.google.com/assets/colab-badge.svg\" alt=\"Open In Colab\"/></a>"
      ]
    },
    {
      "cell_type": "markdown",
      "source": [
        "**Nossa Primeira Função**"
      ],
      "metadata": {
        "id": "If72M8XdK79v"
      }
    },
    {
      "cell_type": "code",
      "execution_count": 4,
      "metadata": {
        "colab": {
          "base_uri": "https://localhost:8080/"
        },
        "id": "icoCCNsCK5V-",
        "outputId": "f2370d67-3799-4cc5-feaf-3181d221c20b"
      },
      "outputs": [
        {
          "output_type": "stream",
          "name": "stdout",
          "text": [
            "| ______________________________ |\n",
            "| ______________________________ |\n",
            "              MENU\n",
            "| ______________________________ |\n",
            "| ______________________________ |\n"
          ]
        }
      ],
      "source": [
        "print('|','___' *10,'|')\n",
        "print('|','___' *10,'|')\n",
        "print('              MENU')\n",
        "print('|','___' *10,'|')\n",
        "print('|','___' *10,'|')"
      ]
    },
    {
      "cell_type": "markdown",
      "source": [
        "Voltando..."
      ],
      "metadata": {
        "id": "NFIEnKDOLpRB"
      }
    },
    {
      "cell_type": "code",
      "source": [
        "def realce():\n",
        "  #corpo da função\n",
        "  print('|','___' *10,'|')\n",
        "  print('|','___' *10,'|')"
      ],
      "metadata": {
        "id": "Kl0m1i35Ls1n"
      },
      "execution_count": 5,
      "outputs": []
    },
    {
      "cell_type": "code",
      "source": [
        "#programa principal\n",
        "realce()\n",
        "print('              MENU ')\n",
        "realce()"
      ],
      "metadata": {
        "colab": {
          "base_uri": "https://localhost:8080/"
        },
        "id": "TrVkpM82L8bM",
        "outputId": "97ba8de9-fc40-4516-a673-ea5340ada8df"
      },
      "execution_count": 6,
      "outputs": [
        {
          "output_type": "stream",
          "name": "stdout",
          "text": [
            "| ______________________________ |\n",
            "| ______________________________ |\n",
            "              MENU \n",
            "| ______________________________ |\n",
            "| ______________________________ |\n"
          ]
        }
      ]
    },
    {
      "cell_type": "markdown",
      "source": [
        "**2. PARÂMETROS EM FUNÇÕES**"
      ],
      "metadata": {
        "id": "jIO_JGJqMjJs"
      }
    },
    {
      "cell_type": "code",
      "source": [
        "def realce(s1):\n",
        "  print('|','___' *10,'|')\n",
        "  print('|','___' *10,'|')\n",
        "  print(s1)\n",
        "  print('|','___' *10,'|')\n",
        "  print('|','___' *10,'|')"
      ],
      "metadata": {
        "id": "15vYlLNXMsTT"
      },
      "execution_count": 7,
      "outputs": []
    },
    {
      "cell_type": "code",
      "source": [
        "#programa principal\n",
        "realce('               AMOR')"
      ],
      "metadata": {
        "colab": {
          "base_uri": "https://localhost:8080/"
        },
        "id": "3V2wn0mZM7VC",
        "outputId": "637f897f-dbdf-4542-d640-d6bb3b2628a7"
      },
      "execution_count": 12,
      "outputs": [
        {
          "output_type": "stream",
          "name": "stdout",
          "text": [
            "| ______________________________ |\n",
            "| ______________________________ |\n",
            "               AMOR\n",
            "| ______________________________ |\n",
            "| ______________________________ |\n"
          ]
        }
      ]
    },
    {
      "cell_type": "code",
      "source": [
        "def sub2(x,y):\n",
        "  res = x -y\n",
        "  print(res)\n"
      ],
      "metadata": {
        "id": "3R7KNUX2NGVD"
      },
      "execution_count": 13,
      "outputs": []
    },
    {
      "cell_type": "code",
      "source": [
        "#programa principal\n",
        "sub2(5,7)"
      ],
      "metadata": {
        "colab": {
          "base_uri": "https://localhost:8080/"
        },
        "id": "9Qt_t9rQNYvC",
        "outputId": "58dd85b8-461b-45b0-96c2-a03be94a4ee3"
      },
      "execution_count": 14,
      "outputs": [
        {
          "output_type": "stream",
          "name": "stdout",
          "text": [
            "-2\n"
          ]
        }
      ]
    },
    {
      "cell_type": "markdown",
      "source": [
        "**Parâmetros opcionais**"
      ],
      "metadata": {
        "id": "sWAlt3tuNe-c"
      }
    },
    {
      "cell_type": "code",
      "source": [
        "def soma3(x,y,z):\n",
        "  res= x + y + z\n",
        "  print(res)"
      ],
      "metadata": {
        "id": "fLG_4B9RNkCQ"
      },
      "execution_count": 15,
      "outputs": []
    },
    {
      "cell_type": "code",
      "source": [
        "def soma3 (x = 0, y = 0, z = 0):\n",
        "  res = x + y + z\n",
        "  print(res)"
      ],
      "metadata": {
        "id": "-zSuFl9sOF46"
      },
      "execution_count": 16,
      "outputs": []
    },
    {
      "cell_type": "code",
      "source": [
        "soma3(1,2,3)\n",
        "soma3(1,2)\n",
        "soma3(1)\n",
        "soma3()"
      ],
      "metadata": {
        "colab": {
          "base_uri": "https://localhost:8080/"
        },
        "id": "jfiw0hokOS_E",
        "outputId": "2c8424cb-6026-48a1-eebc-058c29fdda2f"
      },
      "execution_count": 17,
      "outputs": [
        {
          "output_type": "stream",
          "name": "stdout",
          "text": [
            "6\n",
            "3\n",
            "1\n",
            "0\n"
          ]
        }
      ]
    },
    {
      "cell_type": "markdown",
      "source": [
        "# **Exercícios**"
      ],
      "metadata": {
        "id": "0V8frstZOfyd"
      }
    },
    {
      "cell_type": "code",
      "source": [
        "#Exercício 1\n",
        "def borda(s1):\n",
        "  tam = len(s1)\n",
        "  #Só imprime caso exista algum caractere\n",
        "  if tam:\n",
        "    print('+','-'* tam, '-')\n",
        "    print('|',s1, '|')\n",
        "    print('+','-'* tam, '+')\n",
        "\n",
        "  #programa principal\n",
        "borda('Olá, Mundo')\n",
        "borda('Lógica de Programação e Algoritmos')"
      ],
      "metadata": {
        "colab": {
          "base_uri": "https://localhost:8080/"
        },
        "id": "5Yyir54vQD93",
        "outputId": "bd7a10e6-dd91-42b7-c8d8-9468ef6de67a"
      },
      "execution_count": 28,
      "outputs": [
        {
          "output_type": "stream",
          "name": "stdout",
          "text": [
            "+ ---------- -\n",
            "| Olá, Mundo |\n",
            "+ ---------- +\n",
            "+ ---------------------------------- -\n",
            "| Lógica de Programação e Algoritmos |\n",
            "+ ---------------------------------- +\n"
          ]
        }
      ]
    },
    {
      "cell_type": "markdown",
      "source": [
        "# **Escopo de variáveis**"
      ],
      "metadata": {
        "id": "QMd4ZEv6RBSc"
      }
    },
    {
      "cell_type": "code",
      "source": [
        "def omelete():\n",
        "  ovos = 12 #variavel global\n",
        "\n",
        "#programa principal\n",
        "omelete()\n",
        "print(ovos) #escopo global"
      ],
      "metadata": {
        "colab": {
          "base_uri": "https://localhost:8080/",
          "height": 176
        },
        "id": "OGrhD0p_RVx_",
        "outputId": "87fb0d37-5ddc-4442-ef05-3bbbb7f33a69"
      },
      "execution_count": 1,
      "outputs": [
        {
          "output_type": "error",
          "ename": "NameError",
          "evalue": "name 'ovos' is not defined",
          "traceback": [
            "\u001b[0;31m---------------------------------------------------------------------------\u001b[0m",
            "\u001b[0;31mNameError\u001b[0m                                 Traceback (most recent call last)",
            "\u001b[0;32m<ipython-input-1-28e2a980a111>\u001b[0m in \u001b[0;36m<cell line: 0>\u001b[0;34m()\u001b[0m\n\u001b[1;32m      4\u001b[0m \u001b[0;31m#programa principal\u001b[0m\u001b[0;34m\u001b[0m\u001b[0;34m\u001b[0m\u001b[0m\n\u001b[1;32m      5\u001b[0m \u001b[0momelete\u001b[0m\u001b[0;34m(\u001b[0m\u001b[0;34m)\u001b[0m\u001b[0;34m\u001b[0m\u001b[0;34m\u001b[0m\u001b[0m\n\u001b[0;32m----> 6\u001b[0;31m \u001b[0mprint\u001b[0m\u001b[0;34m(\u001b[0m\u001b[0movos\u001b[0m\u001b[0;34m)\u001b[0m \u001b[0;31m#escopo global\u001b[0m\u001b[0;34m\u001b[0m\u001b[0;34m\u001b[0m\u001b[0m\n\u001b[0m",
            "\u001b[0;31mNameError\u001b[0m: name 'ovos' is not defined"
          ]
        }
      ]
    },
    {
      "cell_type": "code",
      "source": [
        "def omelete():\n",
        "  print(ovos) #escopo local\n",
        "\n",
        "#programa principal\n",
        "ovos = 12 #variavel global\n",
        "omelete()"
      ],
      "metadata": {
        "colab": {
          "base_uri": "https://localhost:8080/"
        },
        "id": "DZ5EG9WEtxOT",
        "outputId": "060154c5-df79-4783-9530-cbd62bc40438"
      },
      "execution_count": 2,
      "outputs": [
        {
          "output_type": "stream",
          "name": "stdout",
          "text": [
            "12\n"
          ]
        }
      ]
    },
    {
      "cell_type": "code",
      "source": [
        "def omelete():\n",
        "  ovos = 12\n",
        "  bacon()\n",
        "  print(ovos)\n",
        "\n",
        "def bacon():\n",
        "  ovos = 6\n",
        "\n",
        "#programa principal\n",
        "omelete()\n"
      ],
      "metadata": {
        "colab": {
          "base_uri": "https://localhost:8080/"
        },
        "id": "x-WWBIZyuD_q",
        "outputId": "88f3bd41-5f24-4b5c-9f8e-088e3cd009a0"
      },
      "execution_count": 3,
      "outputs": [
        {
          "output_type": "stream",
          "name": "stdout",
          "text": [
            "12\n"
          ]
        }
      ]
    },
    {
      "cell_type": "code",
      "source": [
        "def omelete():\n",
        "  ovos = 12 #Variavel local de omelete\n",
        "  print('Ovos =', ovos)\n",
        "\n",
        "def bacon():\n",
        "  ovos = 6 #Variavel local de bacon\n",
        "  print('Ovos = ', ovos)\n",
        "  omelete()\n",
        "  print('Ovos = ', ovos)\n",
        "\n",
        "#Programa principal\n",
        "ovos = 2 #'Variavel global'\n",
        "bacon()\n",
        "print('Ovos = ', ovos)"
      ],
      "metadata": {
        "colab": {
          "base_uri": "https://localhost:8080/"
        },
        "id": "L6e48ykCuVdO",
        "outputId": "9e452e14-1f57-4c6a-f4a0-b9adcb085cd2"
      },
      "execution_count": 4,
      "outputs": [
        {
          "output_type": "stream",
          "name": "stdout",
          "text": [
            "Ovos =  6\n",
            "Ovos = 12\n",
            "Ovos =  6\n",
            "Ovos =  2\n"
          ]
        }
      ]
    },
    {
      "cell_type": "markdown",
      "source": [
        "# **Instrução Global**\n"
      ],
      "metadata": {
        "id": "6dtRBtprvIu4"
      }
    },
    {
      "cell_type": "code",
      "source": [
        "def omelete():\n",
        "  ovos = 6\n",
        "#programa principal\n",
        "ovos = 12\n",
        "omelete()\n",
        "print(ovos)"
      ],
      "metadata": {
        "colab": {
          "base_uri": "https://localhost:8080/"
        },
        "id": "KCqW_8d9vNEm",
        "outputId": "0309230d-040f-4722-c6c2-6541372a490c"
      },
      "execution_count": 5,
      "outputs": [
        {
          "output_type": "stream",
          "name": "stdout",
          "text": [
            "12\n"
          ]
        }
      ]
    },
    {
      "cell_type": "code",
      "source": [
        "def omelete():\n",
        "  global ovos\n",
        "  ovos = 6\n",
        "  bacon()\n",
        "\n",
        "def bacon():\n",
        "    ovos = 12\n",
        "    pimenta()\n",
        "\n",
        "def pimenta():\n",
        "    print(ovos)\n",
        "\n",
        "#Programa principal\n",
        "ovos = 4\n",
        "omelete()\n",
        "print(ovos)"
      ],
      "metadata": {
        "colab": {
          "base_uri": "https://localhost:8080/"
        },
        "id": "qsKok71cwG1-",
        "outputId": "a6d25bab-fc77-47a6-9a5f-1b437b93450c"
      },
      "execution_count": 6,
      "outputs": [
        {
          "output_type": "stream",
          "name": "stdout",
          "text": [
            "6\n",
            "6\n"
          ]
        }
      ]
    },
    {
      "cell_type": "markdown",
      "source": [
        "# **RETORNO DE VALORES EM FUNÇÕES**"
      ],
      "metadata": {
        "id": "MKiYZWDHzPmu"
      }
    },
    {
      "cell_type": "code",
      "source": [
        "def soma3(x = 0, y = 0, z = 0):\n",
        "  res = x + y + z\n",
        "  return res"
      ],
      "metadata": {
        "id": "qxEDc3mIzvLD"
      },
      "execution_count": 7,
      "outputs": []
    },
    {
      "cell_type": "code",
      "source": [
        "#programa principal\n",
        "retornado = soma3(1,2,3)\n",
        "print(retornado)\n",
        "\n",
        "#forma alternativa simplificada\n",
        "print(soma3(2,2))\n"
      ],
      "metadata": {
        "colab": {
          "base_uri": "https://localhost:8080/"
        },
        "id": "FfbzQZvK01XR",
        "outputId": "5eb5f43f-ad50-4c72-84a6-94e076bd7a4c"
      },
      "execution_count": 8,
      "outputs": [
        {
          "output_type": "stream",
          "name": "stdout",
          "text": [
            "6\n",
            "4\n"
          ]
        }
      ]
    },
    {
      "cell_type": "code",
      "source": [
        "#Programa principal\n",
        "retornado1 = soma3(1,2,3)\n",
        "retornado2 = soma3(1,2)\n",
        "retornado3 = soma3()\n",
        "print(f'Somatório: {retornado1}, {retornado2} e {retornado3}')"
      ],
      "metadata": {
        "colab": {
          "base_uri": "https://localhost:8080/"
        },
        "id": "-J_kF2tN1HQw",
        "outputId": "bd00f2af-a766-4d1f-ae14-cf335ffa3c7d"
      },
      "execution_count": 9,
      "outputs": [
        {
          "output_type": "stream",
          "name": "stdout",
          "text": [
            "Somatório: 6, 3 e 0\n"
          ]
        }
      ]
    },
    {
      "cell_type": "markdown",
      "source": [
        "# **Exercício**"
      ],
      "metadata": {
        "id": "t7W0jLqD1oMM"
      }
    },
    {
      "cell_type": "code",
      "source": [
        "#exercício 1\n",
        "def valida_string(pergunta, min, max):\n",
        "  s1 = input(pergunta)\n",
        "  tam = len(s1)\n",
        "  while ((tam < min) or (tam > max)):\n",
        "    s1 = input(pergunta)\n",
        "    tam = len(s1)\n",
        "  return s1\n",
        "\n",
        "#programa principal\n",
        "x = valida_string('Digite uma string: ',10, 30)\n",
        "print('Você digitou a string {}. \\n Dado Válido. Encerrando o programa...'. format(x))"
      ],
      "metadata": {
        "colab": {
          "base_uri": "https://localhost:8080/"
        },
        "id": "K553JbYa1rpT",
        "outputId": "4192eb5b-8727-4525-9b22-ed1f826a99b1"
      },
      "execution_count": 10,
      "outputs": [
        {
          "output_type": "stream",
          "name": "stdout",
          "text": [
            "Digite uma string: jnj]4\n",
            "Digite uma string: vdfvdfvdfvdfbfdb\n",
            "Você digitou a string vdfvdfvdfvdfbfdb. \n",
            " Dado Válido. Encerrando o programa...\n"
          ]
        }
      ]
    }
  ]
}